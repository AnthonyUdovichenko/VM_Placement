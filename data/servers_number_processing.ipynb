{
 "cells": [
  {
   "cell_type": "markdown",
   "metadata": {},
   "source": [
    "Функция, собирающая итоговые количества серверов на каждом запуске в один список:"
   ]
  },
  {
   "cell_type": "code",
   "execution_count": 1,
   "metadata": {},
   "outputs": [],
   "source": [
    "def servers_numbers_to_list(problem_type, algorithm, heuristic):\n",
    "    result = list()\n",
    "    \n",
    "    for i in range(100):\n",
    "        file = open(\"results/\" + problem_type + \"_\" + algorithm + \"_\" + heuristic + \"/servers_number/servers_number\" + str(i + 1), \"r\")\n",
    "        \n",
    "        result.append(int(file.readline()))\n",
    "    \n",
    "    return result"
   ]
  },
  {
   "cell_type": "code",
   "execution_count": 2,
   "metadata": {},
   "outputs": [],
   "source": [
    "import statistics"
   ]
  },
  {
   "cell_type": "markdown",
   "metadata": {},
   "source": [
    "###### Для FirstFit"
   ]
  },
  {
   "cell_type": "code",
   "execution_count": 3,
   "metadata": {},
   "outputs": [],
   "source": [
    "servers_numbers_dynamicplacement_firstfit = servers_numbers_to_list(\"dynamicplacement\", \"firstfit\", \"none\")"
   ]
  },
  {
   "cell_type": "code",
   "execution_count": 4,
   "metadata": {},
   "outputs": [
    {
     "name": "stdout",
     "output_type": "stream",
     "text": [
      "Среднее значение итогового количества серверов: 294.71\n",
      "Медиана итогового количества серверов: 240.0\n",
      "Стандартное отклонение итогового количества серверов: 237.72540019947385\n"
     ]
    }
   ],
   "source": [
    "print(\"Среднее значение итогового количества серверов:\", end=\" \")\n",
    "print(statistics.mean(servers_numbers_dynamicplacement_firstfit))\n",
    "print(\"Медиана итогового количества серверов:\", end=\" \")\n",
    "print(statistics.median(servers_numbers_dynamicplacement_firstfit))\n",
    "print(\"Стандартное отклонение итогового количества серверов:\", end=\" \")\n",
    "print(statistics.pstdev(servers_numbers_dynamicplacement_firstfit))"
   ]
  },
  {
   "cell_type": "code",
   "execution_count": 5,
   "metadata": {},
   "outputs": [],
   "source": [
    "import warnings\n",
    "warnings.simplefilter(action='ignore', category=FutureWarning)"
   ]
  },
  {
   "cell_type": "code",
   "execution_count": 6,
   "metadata": {},
   "outputs": [],
   "source": [
    "import matplotlib.pyplot as plt\n",
    "import seaborn as sns"
   ]
  },
  {
   "cell_type": "code",
   "execution_count": 7,
   "metadata": {},
   "outputs": [
    {
     "data": {
      "text/plain": [
       "Text(0, 0.5, 'Количество запусков')"
      ]
     },
     "execution_count": 7,
     "metadata": {},
     "output_type": "execute_result"
    },
    {
     "data": {
      "image/png": "[encoded data removed]",
      "text/plain": [
       "<Figure size 432x288 with 1 Axes>"
      ]
     },
     "metadata": {
      "needs_background": "light"
     },
     "output_type": "display_data"
    }
   ],
   "source": [
    "sns.distplot(servers_numbers_dynamicplacement_firstfit, hist=True, kde=False, color = 'blue', hist_kws={'edgecolor':'black'})\n",
    "\n",
    "plt.title('Гистограмма итогового количества серверов на разных запусках')\n",
    "plt.xlabel('Количество серверов')\n",
    "plt.ylabel('Количество запусков')"
   ]
  },
  {
   "cell_type": "markdown",
   "metadata": {},
   "source": [
    "###### Для BestFit  с эвристикой Sum"
   ]
  },
  {
   "cell_type": "code",
   "execution_count": 8,
   "metadata": {},
   "outputs": [],
   "source": [
    "servers_numbers_dynamicplacement_bestfit_sum = servers_numbers_to_list(\"dynamicplacement\", \"bestfit\", \"sum\")"
   ]
  },
  {
   "cell_type": "code",
   "execution_count": 9,
   "metadata": {},
   "outputs": [
    {
     "name": "stdout",
     "output_type": "stream",
     "text": [
      "Среднее значение итогового количества серверов: 298.08\n",
      "Медиана итогового количества серверов: 242.5\n",
      "Стандартное отклонение итогового количества серверов: 237.0084251667016\n"
     ]
    }
   ],
   "source": [
    "print(\"Среднее значение итогового количества серверов:\", end=\" \")\n",
    "print(statistics.mean(servers_numbers_dynamicplacement_bestfit_sum))\n",
    "print(\"Медиана итогового количества серверов:\", end=\" \")\n",
    "print(statistics.median(servers_numbers_dynamicplacement_bestfit_sum))\n",
    "print(\"Стандартное отклонение итогового количества серверов:\", end=\" \")\n",
    "print(statistics.pstdev(servers_numbers_dynamicplacement_bestfit_sum))"
   ]
  },
  {
   "cell_type": "code",
   "execution_count": 10,
   "metadata": {},
   "outputs": [
    {
     "data": {
      "text/plain": [
       "Text(0, 0.5, 'Количество запусков')"
      ]
     },
     "execution_count": 10,
     "metadata": {},
     "output_type": "execute_result"
    },
    {
     "data": {
      "image/png": "[encoded data removed]",
      "text/plain": [
       "<Figure size 432x288 with 1 Axes>"
      ]
     },
     "metadata": {
      "needs_background": "light"
     },
     "output_type": "display_data"
    }
   ],
   "source": [
    "sns.distplot(servers_numbers_dynamicplacement_bestfit_sum, hist=True, kde=False, color = 'blue', hist_kws={'edgecolor':'black'})\n",
    "\n",
    "plt.title('Гистограмма итогового количества серверов на разных запусках')\n",
    "plt.xlabel('Количество серверов')\n",
    "plt.ylabel('Количество запусков')"
   ]
  },
  {
   "cell_type": "markdown",
   "metadata": {},
   "source": [
    "###### Для BestFit  с эвристикой Prod"
   ]
  },
  {
   "cell_type": "code",
   "execution_count": 11,
   "metadata": {},
   "outputs": [],
   "source": [
    "servers_numbers_dynamicplacement_bestfit_prod = servers_numbers_to_list(\"dynamicplacement\", \"bestfit\", \"prod\")"
   ]
  },
  {
   "cell_type": "code",
   "execution_count": 12,
   "metadata": {},
   "outputs": [
    {
     "name": "stdout",
     "output_type": "stream",
     "text": [
      "Среднее значение итогового количества серверов: 307.93\n",
      "Медиана итогового количества серверов: 247.5\n",
      "Стандартное отклонение итогового количества серверов: 255.55540514729876\n"
     ]
    }
   ],
   "source": [
    "print(\"Среднее значение итогового количества серверов:\", end=\" \")\n",
    "print(statistics.mean(servers_numbers_dynamicplacement_bestfit_prod))\n",
    "print(\"Медиана итогового количества серверов:\", end=\" \")\n",
    "print(statistics.median(servers_numbers_dynamicplacement_bestfit_prod))\n",
    "print(\"Стандартное отклонение итогового количества серверов:\", end=\" \")\n",
    "print(statistics.pstdev(servers_numbers_dynamicplacement_bestfit_prod))"
   ]
  },
  {
   "cell_type": "code",
   "execution_count": 13,
   "metadata": {},
   "outputs": [
    {
     "data": {
      "text/plain": [
       "Text(0, 0.5, 'Количество запусков')"
      ]
     },
     "execution_count": 13,
     "metadata": {},
     "output_type": "execute_result"
    },
    {
     "data": {
      "image/png": "[encoded data removed]",
      "text/plain": [
       "<Figure size 432x288 with 1 Axes>"
      ]
     },
     "metadata": {
      "needs_background": "light"
     },
     "output_type": "display_data"
    }
   ],
   "source": [
    "sns.distplot(servers_numbers_dynamicplacement_bestfit_prod, hist=True, kde=False, color = 'blue', hist_kws={'edgecolor':'black'})\n",
    "\n",
    "plt.title('Гистограмма итогового количества серверов на разных запусках')\n",
    "plt.xlabel('Количество серверов')\n",
    "plt.ylabel('Количество запусков')"
   ]
  },
  {
   "cell_type": "markdown",
   "metadata": {},
   "source": [
    "###### Для Mishra & Sahoo с целью балансировки нагрузки"
   ]
  },
  {
   "cell_type": "code",
   "execution_count": 14,
   "metadata": {},
   "outputs": [],
   "source": [
    "servers_numbers_dynamicplacement_mishrasahoo_loadbalance = servers_numbers_to_list(\"dynamicplacement\", \"mishrasahoo\", \"loadbalance\")"
   ]
  },
  {
   "cell_type": "code",
   "execution_count": 15,
   "metadata": {},
   "outputs": [
    {
     "name": "stdout",
     "output_type": "stream",
     "text": [
      "Среднее значение итогового количества серверов: 295.52\n",
      "Медиана итогового количества серверов: 241.0\n",
      "Стандартное отклонение итогового количества серверов: 237.595264262569\n"
     ]
    }
   ],
   "source": [
    "print(\"Среднее значение итогового количества серверов:\", end=\" \")\n",
    "print(statistics.mean(servers_numbers_dynamicplacement_mishrasahoo_loadbalance))\n",
    "print(\"Медиана итогового количества серверов:\", end=\" \")\n",
    "print(statistics.median(servers_numbers_dynamicplacement_mishrasahoo_loadbalance))\n",
    "print(\"Стандартное отклонение итогового количества серверов:\", end=\" \")\n",
    "print(statistics.pstdev(servers_numbers_dynamicplacement_mishrasahoo_loadbalance))"
   ]
  },
  {
   "cell_type": "code",
   "execution_count": 16,
   "metadata": {},
   "outputs": [
    {
     "data": {
      "text/plain": [
       "Text(0, 0.5, 'Количество запусков')"
      ]
     },
     "execution_count": 16,
     "metadata": {},
     "output_type": "execute_result"
    },
    {
     "data": {
      "image/png": "[encoded data removed]",
      "text/plain": [
       "<Figure size 432x288 with 1 Axes>"
      ]
     },
     "metadata": {
      "needs_background": "light"
     },
     "output_type": "display_data"
    }
   ],
   "source": [
    "sns.distplot(servers_numbers_dynamicplacement_mishrasahoo_loadbalance, hist=True, kde=False, color = 'blue', hist_kws={'edgecolor':'black'})\n",
    "\n",
    "plt.title('Гистограмма итогового количества серверов на разных запусках')\n",
    "plt.xlabel('Количество серверов')\n",
    "plt.ylabel('Количество запусков')"
   ]
  },
  {
   "cell_type": "markdown",
   "metadata": {},
   "source": [
    "###### Для Mishra & Sahoo с целью консолидации"
   ]
  },
  {
   "cell_type": "code",
   "execution_count": 17,
   "metadata": {},
   "outputs": [],
   "source": [
    "servers_numbers_dynamicplacement_mishrasahoo_consolidate = servers_numbers_to_list(\"dynamicplacement\", \"mishrasahoo\", \"consolidate\")"
   ]
  },
  {
   "cell_type": "code",
   "execution_count": 18,
   "metadata": {},
   "outputs": [
    {
     "name": "stdout",
     "output_type": "stream",
     "text": [
      "Среднее значение итогового количества серверов: 294.46\n",
      "Медиана итогового количества серверов: 240.0\n",
      "Стандартное отклонение итогового количества серверов: 237.5835608791147\n"
     ]
    }
   ],
   "source": [
    "print(\"Среднее значение итогового количества серверов:\", end=\" \")\n",
    "print(statistics.mean(servers_numbers_dynamicplacement_mishrasahoo_consolidate))\n",
    "print(\"Медиана итогового количества серверов:\", end=\" \")\n",
    "print(statistics.median(servers_numbers_dynamicplacement_mishrasahoo_consolidate))\n",
    "print(\"Стандартное отклонение итогового количества серверов:\", end=\" \")\n",
    "print(statistics.pstdev(servers_numbers_dynamicplacement_mishrasahoo_consolidate))"
   ]
  },
  {
   "cell_type": "code",
   "execution_count": 19,
   "metadata": {},
   "outputs": [
    {
     "data": {
      "text/plain": [
       "Text(0, 0.5, 'Количество запусков')"
      ]
     },
     "execution_count": 19,
     "metadata": {},
     "output_type": "execute_result"
    },
    {
     "data": {
      "image/png": "[encoded data removed]",
      "text/plain": [
       "<Figure size 432x288 with 1 Axes>"
      ]
     },
     "metadata": {
      "needs_background": "light"
     },
     "output_type": "display_data"
    }
   ],
   "source": [
    "sns.distplot(servers_numbers_dynamicplacement_mishrasahoo_consolidate, hist=True, kde=False, color = 'blue', hist_kws={'edgecolor':'black'})\n",
    "\n",
    "plt.title('Гистограмма итогового количества серверов на разных запусках')\n",
    "plt.xlabel('Количество серверов')\n",
    "plt.ylabel('Количество запусков')"
   ]
  },
  {
   "cell_type": "code",
   "execution_count": 20,
   "metadata": {},
   "outputs": [
    {
     "data": {
      "text/plain": [
       "<matplotlib.axes._subplots.AxesSubplot at 0x7fee833fcf50>"
      ]
     },
     "execution_count": 20,
     "metadata": {},
     "output_type": "execute_result"
    },
    {
     "data": {
      "image/png": "[encoded data removed]",
      "text/plain": [
       "<Figure size 432x288 with 1 Axes>"
      ]
     },
     "metadata": {
      "needs_background": "light"
     },
     "output_type": "display_data"
    }
   ],
   "source": [
    "sns.distplot(servers_numbers_dynamicplacement_firstfit, hist=True, kde=False, color = 'blue', hist_kws={'edgecolor':'black'})\n",
    "sns.distplot(servers_numbers_dynamicplacement_bestfit_sum, hist=True, kde=False, color = 'green', hist_kws={'edgecolor':'black'})\n",
    "sns.distplot(servers_numbers_dynamicplacement_bestfit_prod, hist=True, kde=False, color = 'red', hist_kws={'edgecolor':'black'})\n",
    "sns.distplot(servers_numbers_dynamicplacement_mishrasahoo_loadbalance, hist=True, kde=False, color = 'yellow', hist_kws={'edgecolor':'black'})\n",
    "sns.distplot(servers_numbers_dynamicplacement_mishrasahoo_consolidate, hist=True, kde=False, color = 'purple', hist_kws={'edgecolor':'black'})"
   ]
  },
  {
   "cell_type": "code",
   "execution_count": 37,
   "metadata": {},
   "outputs": [
    {
     "data": {
      "text/plain": [
       "<matplotlib.axes._subplots.AxesSubplot at 0x7fee82927e10>"
      ]
     },
     "execution_count": 37,
     "metadata": {},
     "output_type": "execute_result"
    },
    {
     "data": {
      "image/png": "[encoded data removed]",
      "text/plain": [
       "<Figure size 1080x360 with 1 Axes>"
      ]
     },
     "metadata": {
      "needs_background": "light"
     },
     "output_type": "display_data"
    }
   ],
   "source": [
    "plt.figure(figsize=(15, 5))\n",
    "sns.boxplot([servers_numbers_dynamicplacement_firstfit, servers_numbers_dynamicplacement_bestfit_sum,\n",
    "           servers_numbers_dynamicplacement_bestfit_prod, servers_numbers_dynamicplacement_mishrasahoo_loadbalance,\n",
    "           servers_numbers_dynamicplacement_mishrasahoo_consolidate],\n",
    "           ['FirstFit', 'BestFit Sum', 'BestFit Prod', 'Mishra&Sahoo load balance', 'Mishra&Sahoo consolidate'])"
   ]
  },
  {
   "cell_type": "code",
   "execution_count": null,
   "metadata": {},
   "outputs": [],
   "source": []
  }
 ],
 "metadata": {
  "kernelspec": {
   "display_name": "Python 3",
   "language": "python",
   "name": "python3"
  },
  "language_info": {
   "codemirror_mode": {
    "name": "ipython",
    "version": 3
   },
   "file_extension": ".py",
   "mimetype": "text/x-python",
   "name": "python",
   "nbconvert_exporter": "python",
   "pygments_lexer": "ipython3",
   "version": "3.7.4"
  }
 },
 "nbformat": 4,
 "nbformat_minor": 2
}
