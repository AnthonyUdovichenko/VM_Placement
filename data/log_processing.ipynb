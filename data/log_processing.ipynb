{
 "cells": [
  {
   "cell_type": "code",
   "execution_count": 1,
   "metadata": {},
   "outputs": [],
   "source": [
    "def log_to_utilization_efficiency(problem_type, algorithm, heuristic, i):\n",
    "    file = open(\"results/\" + problem_type + \"_\" + algorithm + \"_\" + heuristic + \"/log/log\" + str(i), \"r\")\n",
    "        \n",
    "    i = 0\n",
    "    prev_time = -100500.0\n",
    "    prev_servers_number = 0\n",
    "    prev_vms_number = 0\n",
    "    servers_cpu_time = 0.0\n",
    "    vms_cpu_time = 0.0\n",
    "    \n",
    "    for line in file:\n",
    "        inp = line.split()\n",
    "        \n",
    "        time = float(inp[0])\n",
    "        servers_number = int(inp[1])\n",
    "        vms_number = int(inp[2])\n",
    "            \n",
    "        if i > 0:\n",
    "            servers_cpu_time += (time - prev_time) * prev_servers_number\n",
    "            vms_cpu_time += (time - prev_time) * prev_vms_number\n",
    "            \n",
    "        i += 1\n",
    "        prev_time = time\n",
    "        prev_servers_number = servers_number\n",
    "        prev_vms_number = vms_number\n",
    "    \n",
    "    return (vms_cpu_time / servers_cpu_time if servers_cpu_time != 0 else -1)"
   ]
  },
  {
   "cell_type": "code",
   "execution_count": 2,
   "metadata": {},
   "outputs": [],
   "source": [
    "def utilization_efficiency_all_runs(problem_type, algorithm, heuristic):\n",
    "    result = list()\n",
    "    \n",
    "    for i in range(100):\n",
    "        value = log_to_utilization_efficiency(problem_type, algorithm, heuristic, i + 1)\n",
    "        if value != -1:\n",
    "            result.append(value)\n",
    "    \n",
    "    return result"
   ]
  },
  {
   "cell_type": "code",
   "execution_count": 3,
   "metadata": {},
   "outputs": [],
   "source": [
    "import statistics"
   ]
  },
  {
   "cell_type": "markdown",
   "metadata": {},
   "source": [
    "###### FirstFit"
   ]
  },
  {
   "cell_type": "code",
   "execution_count": 4,
   "metadata": {},
   "outputs": [],
   "source": [
    "utilization_efficiency_dynamicplacement_firstfit = utilization_efficiency_all_runs(\"dynamicplacement\", \"firstfit\", \"none\")"
   ]
  },
  {
   "cell_type": "code",
   "execution_count": 5,
   "metadata": {},
   "outputs": [
    {
     "name": "stdout",
     "output_type": "stream",
     "text": [
      "Среднее значение эффективности утилизации: 16.44124751684238\n",
      "Медиана эффективности утилизации: 15.970998768199188\n",
      "Стандартное отклонение эффективности утилизации: 3.7134425259292114\n"
     ]
    }
   ],
   "source": [
    "print(\"Среднее значение эффективности утилизации:\", end=\" \")\n",
    "print(statistics.mean(utilization_efficiency_dynamicplacement_firstfit))\n",
    "print(\"Медиана эффективности утилизации:\", end=\" \")\n",
    "print(statistics.median(utilization_efficiency_dynamicplacement_firstfit))\n",
    "print(\"Стандартное отклонение эффективности утилизации:\", end=\" \")\n",
    "print(statistics.pstdev(utilization_efficiency_dynamicplacement_firstfit))"
   ]
  },
  {
   "cell_type": "code",
   "execution_count": 6,
   "metadata": {},
   "outputs": [],
   "source": [
    "import warnings\n",
    "warnings.simplefilter(action='ignore', category=FutureWarning)"
   ]
  },
  {
   "cell_type": "code",
   "execution_count": 7,
   "metadata": {},
   "outputs": [],
   "source": [
    "import matplotlib.pyplot as plt\n",
    "import seaborn as sns"
   ]
  },
  {
   "cell_type": "code",
   "execution_count": 8,
   "metadata": {},
   "outputs": [
    {
     "data": {
      "text/plain": [
       "Text(0, 0.5, 'Количество запусков')"
      ]
     },
     "execution_count": 8,
     "metadata": {},
     "output_type": "execute_result"
    },
    {
     "data": {
      "image/png": "[encoded data removed]",
      "text/plain": [
       "<Figure size 432x288 with 1 Axes>"
      ]
     },
     "metadata": {
      "needs_background": "light"
     },
     "output_type": "display_data"
    }
   ],
   "source": [
    "sns.distplot(utilization_efficiency_dynamicplacement_firstfit, hist=True, kde=False, color = 'blue', hist_kws={'edgecolor':'black'})\n",
    "\n",
    "plt.title('Гистограмма эффективности утилизации на разных запусках')\n",
    "plt.xlabel('Эффективность утилизации')\n",
    "plt.ylabel('Количество запусков')"
   ]
  },
  {
   "cell_type": "markdown",
   "metadata": {},
   "source": [
    "###### BestFit с эвристикой Sum"
   ]
  },
  {
   "cell_type": "code",
   "execution_count": 9,
   "metadata": {},
   "outputs": [],
   "source": [
    "utilization_efficiency_dynamicplacement_bestfit_sum = utilization_efficiency_all_runs(\"dynamicplacement\", \"bestfit\", \"sum\")"
   ]
  },
  {
   "cell_type": "code",
   "execution_count": 10,
   "metadata": {},
   "outputs": [
    {
     "name": "stdout",
     "output_type": "stream",
     "text": [
      "Среднее значение эффективности утилизации: 16.2257811086316\n",
      "Медиана эффективности утилизации: 15.77895032973229\n",
      "Стандартное отклонение эффективности утилизации: 3.6050228460544447\n"
     ]
    }
   ],
   "source": [
    "print(\"Среднее значение эффективности утилизации:\", end=\" \")\n",
    "print(statistics.mean(utilization_efficiency_dynamicplacement_bestfit_sum))\n",
    "print(\"Медиана эффективности утилизации:\", end=\" \")\n",
    "print(statistics.median(utilization_efficiency_dynamicplacement_bestfit_sum))\n",
    "print(\"Стандартное отклонение эффективности утилизации:\", end=\" \")\n",
    "print(statistics.pstdev(utilization_efficiency_dynamicplacement_bestfit_sum))"
   ]
  },
  {
   "cell_type": "code",
   "execution_count": 11,
   "metadata": {},
   "outputs": [
    {
     "data": {
      "text/plain": [
       "Text(0, 0.5, 'Количество запусков')"
      ]
     },
     "execution_count": 11,
     "metadata": {},
     "output_type": "execute_result"
    },
    {
     "data": {
      "image/png": "[encoded data removed]",
      "text/plain": [
       "<Figure size 432x288 with 1 Axes>"
      ]
     },
     "metadata": {
      "needs_background": "light"
     },
     "output_type": "display_data"
    }
   ],
   "source": [
    "sns.distplot(utilization_efficiency_dynamicplacement_bestfit_sum, hist=True, kde=False, color = 'blue', hist_kws={'edgecolor':'black'})\n",
    "\n",
    "plt.title('Гистограмма эффективности утилизации на разных запусках')\n",
    "plt.xlabel('Эффективность утилизации')\n",
    "plt.ylabel('Количество запусков')"
   ]
  },
  {
   "cell_type": "markdown",
   "metadata": {},
   "source": [
    "###### BestFit с эвристикой Prod"
   ]
  },
  {
   "cell_type": "code",
   "execution_count": 12,
   "metadata": {},
   "outputs": [],
   "source": [
    "utilization_efficiency_dynamicplacement_bestfit_prod = utilization_efficiency_all_runs(\"dynamicplacement\", \"bestfit\", \"prod\")"
   ]
  },
  {
   "cell_type": "code",
   "execution_count": 13,
   "metadata": {},
   "outputs": [
    {
     "name": "stdout",
     "output_type": "stream",
     "text": [
      "Среднее значение эффективности утилизации: 15.797777541607422\n",
      "Медиана эффективности утилизации: 15.205466501603567\n",
      "Стандартное отклонение эффективности утилизации: 3.6226033209669914\n"
     ]
    }
   ],
   "source": [
    "print(\"Среднее значение эффективности утилизации:\", end=\" \")\n",
    "print(statistics.mean(utilization_efficiency_dynamicplacement_bestfit_prod))\n",
    "print(\"Медиана эффективности утилизации:\", end=\" \")\n",
    "print(statistics.median(utilization_efficiency_dynamicplacement_bestfit_prod))\n",
    "print(\"Стандартное отклонение эффективности утилизации:\", end=\" \")\n",
    "print(statistics.pstdev(utilization_efficiency_dynamicplacement_bestfit_prod))"
   ]
  },
  {
   "cell_type": "code",
   "execution_count": 14,
   "metadata": {},
   "outputs": [
    {
     "data": {
      "text/plain": [
       "Text(0, 0.5, 'Количество запусков')"
      ]
     },
     "execution_count": 14,
     "metadata": {},
     "output_type": "execute_result"
    },
    {
     "data": {
      "image/png": "[encoded data removed]",
      "text/plain": [
       "<Figure size 432x288 with 1 Axes>"
      ]
     },
     "metadata": {
      "needs_background": "light"
     },
     "output_type": "display_data"
    }
   ],
   "source": [
    "sns.distplot(utilization_efficiency_dynamicplacement_bestfit_prod, hist=True, kde=False, color = 'blue', hist_kws={'edgecolor':'black'})\n",
    "\n",
    "plt.title('Гистограмма эффективности утилизации на разных запусках')\n",
    "plt.xlabel('Эффективность утилизации')\n",
    "plt.ylabel('Количество запусков')"
   ]
  },
  {
   "cell_type": "markdown",
   "metadata": {},
   "source": [
    "###### Mishra & Sahoo с целью балансировки нагрузки"
   ]
  },
  {
   "cell_type": "code",
   "execution_count": 15,
   "metadata": {},
   "outputs": [],
   "source": [
    "utilization_efficiency_dynamicplacement_mishrasahoo_loadbalance = utilization_efficiency_all_runs(\"dynamicplacement\", \"mishrasahoo\", \"loadbalance\")"
   ]
  },
  {
   "cell_type": "code",
   "execution_count": 16,
   "metadata": {},
   "outputs": [
    {
     "name": "stdout",
     "output_type": "stream",
     "text": [
      "Среднее значение эффективности утилизации: 16.39796349030326\n",
      "Медиана эффективности утилизации: 15.94377111927933\n",
      "Стандартное отклонение эффективности утилизации: 3.708979934849924\n"
     ]
    }
   ],
   "source": [
    "print(\"Среднее значение эффективности утилизации:\", end=\" \")\n",
    "print(statistics.mean(utilization_efficiency_dynamicplacement_mishrasahoo_loadbalance))\n",
    "print(\"Медиана эффективности утилизации:\", end=\" \")\n",
    "print(statistics.median(utilization_efficiency_dynamicplacement_mishrasahoo_loadbalance))\n",
    "print(\"Стандартное отклонение эффективности утилизации:\", end=\" \")\n",
    "print(statistics.pstdev(utilization_efficiency_dynamicplacement_mishrasahoo_loadbalance))"
   ]
  },
  {
   "cell_type": "code",
   "execution_count": 17,
   "metadata": {},
   "outputs": [
    {
     "data": {
      "text/plain": [
       "Text(0, 0.5, 'Количество запусков')"
      ]
     },
     "execution_count": 17,
     "metadata": {},
     "output_type": "execute_result"
    },
    {
     "data": {
      "image/png": "[encoded data removed]",
      "text/plain": [
       "<Figure size 432x288 with 1 Axes>"
      ]
     },
     "metadata": {
      "needs_background": "light"
     },
     "output_type": "display_data"
    }
   ],
   "source": [
    "sns.distplot(utilization_efficiency_dynamicplacement_mishrasahoo_loadbalance, hist=True, kde=False, color = 'blue', hist_kws={'edgecolor':'black'})\n",
    "\n",
    "plt.title('Гистограмма эффективности утилизации на разных запусках')\n",
    "plt.xlabel('Эффективность утилизации')\n",
    "plt.ylabel('Количество запусков')"
   ]
  },
  {
   "cell_type": "markdown",
   "metadata": {},
   "source": [
    "###### Mishra & Sahoo с целью консолидации"
   ]
  },
  {
   "cell_type": "code",
   "execution_count": 18,
   "metadata": {},
   "outputs": [],
   "source": [
    "utilization_efficiency_dynamicplacement_mishrasahoo_consolidate = utilization_efficiency_all_runs(\"dynamicplacement\", \"mishrasahoo\", \"consolidate\")"
   ]
  },
  {
   "cell_type": "code",
   "execution_count": 19,
   "metadata": {},
   "outputs": [
    {
     "name": "stdout",
     "output_type": "stream",
     "text": [
      "Среднее значение эффективности утилизации: 16.44473118470832\n",
      "Медиана эффективности утилизации: 15.957668011276652\n",
      "Стандартное отклонение эффективности утилизации: 3.7136859238424673\n"
     ]
    }
   ],
   "source": [
    "print(\"Среднее значение эффективности утилизации:\", end=\" \")\n",
    "print(statistics.mean(utilization_efficiency_dynamicplacement_mishrasahoo_consolidate))\n",
    "print(\"Медиана эффективности утилизации:\", end=\" \")\n",
    "print(statistics.median(utilization_efficiency_dynamicplacement_mishrasahoo_consolidate))\n",
    "print(\"Стандартное отклонение эффективности утилизации:\", end=\" \")\n",
    "print(statistics.pstdev(utilization_efficiency_dynamicplacement_mishrasahoo_consolidate))"
   ]
  },
  {
   "cell_type": "code",
   "execution_count": 20,
   "metadata": {},
   "outputs": [
    {
     "data": {
      "text/plain": [
       "Text(0, 0.5, 'Количество запусков')"
      ]
     },
     "execution_count": 20,
     "metadata": {},
     "output_type": "execute_result"
    },
    {
     "data": {
      "image/png": "[encoded data removed]",
      "text/plain": [
       "<Figure size 432x288 with 1 Axes>"
      ]
     },
     "metadata": {
      "needs_background": "light"
     },
     "output_type": "display_data"
    }
   ],
   "source": [
    "sns.distplot(utilization_efficiency_dynamicplacement_mishrasahoo_consolidate, hist=True, kde=False, color = 'blue', hist_kws={'edgecolor':'black'})\n",
    "\n",
    "plt.title('Гистограмма эффективности утилизации на разных запусках')\n",
    "plt.xlabel('Эффективность утилизации')\n",
    "plt.ylabel('Количество запусков')"
   ]
  },
  {
   "cell_type": "code",
   "execution_count": 21,
   "metadata": {},
   "outputs": [
    {
     "data": {
      "text/plain": [
       "<matplotlib.axes._subplots.AxesSubplot at 0x7f0371e05c50>"
      ]
     },
     "execution_count": 21,
     "metadata": {},
     "output_type": "execute_result"
    },
    {
     "data": {
      "image/png": "[encoded data removed]",
      "text/plain": [
       "<Figure size 432x288 with 1 Axes>"
      ]
     },
     "metadata": {
      "needs_background": "light"
     },
     "output_type": "display_data"
    }
   ],
   "source": [
    "sns.distplot(utilization_efficiency_dynamicplacement_firstfit, hist=True, kde=False, color = 'red', hist_kws={'edgecolor':'black'})\n",
    "sns.distplot(utilization_efficiency_dynamicplacement_bestfit_sum, hist=True, kde=False, color = 'green', hist_kws={'edgecolor':'black'})\n",
    "sns.distplot(utilization_efficiency_dynamicplacement_bestfit_prod, hist=True, kde=False, color = 'blue', hist_kws={'edgecolor':'black'})\n",
    "sns.distplot(utilization_efficiency_dynamicplacement_mishrasahoo_loadbalance, hist=True, kde=False, color = 'yellow', hist_kws={'edgecolor':'black'})\n",
    "sns.distplot(utilization_efficiency_dynamicplacement_mishrasahoo_consolidate, hist=True, kde=False, color = 'purple', hist_kws={'edgecolor':'black'})"
   ]
  },
  {
   "cell_type": "code",
   "execution_count": 22,
   "metadata": {},
   "outputs": [
    {
     "data": {
      "text/plain": [
       "<matplotlib.axes._subplots.AxesSubplot at 0x7f0370b43090>"
      ]
     },
     "execution_count": 22,
     "metadata": {},
     "output_type": "execute_result"
    },
    {
     "data": {
      "image/png": "[encoded data removed]",
      "text/plain": [
       "<Figure size 1080x360 with 1 Axes>"
      ]
     },
     "metadata": {
      "needs_background": "light"
     },
     "output_type": "display_data"
    }
   ],
   "source": [
    "plt.figure(figsize=(15, 5))\n",
    "sns.boxplot([utilization_efficiency_dynamicplacement_firstfit, utilization_efficiency_dynamicplacement_bestfit_sum,\n",
    "           utilization_efficiency_dynamicplacement_bestfit_prod, utilization_efficiency_dynamicplacement_mishrasahoo_loadbalance,\n",
    "           utilization_efficiency_dynamicplacement_mishrasahoo_consolidate],\n",
    "           ['FirstFit', 'BestFit Sum', 'BestFit Prod', 'Mishra&Sahoo load balance', 'Mishra&Sahoo consolidate'])"
   ]
  }
 ],
 "metadata": {
  "kernelspec": {
   "display_name": "Python 3",
   "language": "python",
   "name": "python3"
  },
  "language_info": {
   "codemirror_mode": {
    "name": "ipython",
    "version": 3
   },
   "file_extension": ".py",
   "mimetype": "text/x-python",
   "name": "python",
   "nbconvert_exporter": "python",
   "pygments_lexer": "ipython3",
   "version": "3.7.4"
  }
 },
 "nbformat": 4,
 "nbformat_minor": 2
}
