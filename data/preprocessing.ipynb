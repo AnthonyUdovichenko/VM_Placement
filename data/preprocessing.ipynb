{
 "cells": [
  {
   "cell_type": "code",
   "execution_count": 1,
   "metadata": {},
   "outputs": [],
   "source": [
    "import numpy as np\n",
    "import pandas as pd\n",
    "import warnings\n",
    "warnings.simplefilter(action='ignore', category=FutureWarning)"
   ]
  },
  {
   "cell_type": "markdown",
   "metadata": {},
   "source": [
    "Читаем CSV-файлы:"
   ]
  },
  {
   "cell_type": "code",
   "execution_count": 2,
   "metadata": {},
   "outputs": [],
   "source": [
    "vm = pd.read_csv('vm.csv', index_col=0)\n",
    "vmType = pd.read_csv('vmType.csv', index_col=0)"
   ]
  },
  {
   "cell_type": "markdown",
   "metadata": {},
   "source": [
    "Видим, что больше всего виртуальных машин работают с физической машиной номер 16:"
   ]
  },
  {
   "cell_type": "code",
   "execution_count": 3,
   "metadata": {},
   "outputs": [
    {
     "data": {
      "text/plain": [
       "16    281\n",
       "11    275\n",
       "23    242\n",
       "12    229\n",
       "21    229\n",
       "31    201\n",
       "34    200\n",
       "3     194\n",
       "13    194\n",
       "8     191\n",
       "1     183\n",
       "22    182\n",
       "9     177\n",
       "27    160\n",
       "6     157\n",
       "24    155\n",
       "30    155\n",
       "10    123\n",
       "33    122\n",
       "29    115\n",
       "26    115\n",
       "25    113\n",
       "2      88\n",
       "14     86\n",
       "7      83\n",
       "5      78\n",
       "15     75\n",
       "32     60\n",
       "19     59\n",
       "28     43\n",
       "4      25\n",
       "0      15\n",
       "17      6\n",
       "18      6\n",
       "20      2\n",
       "Name: machineId, dtype: int64"
      ]
     },
     "execution_count": 3,
     "metadata": {},
     "output_type": "execute_result"
    }
   ],
   "source": [
    "vmType.machineId.value_counts()"
   ]
  },
  {
   "cell_type": "markdown",
   "metadata": {},
   "source": [
    "Для простоты не будем рассматривать HDD, так как значения для этого ресурса присутствуют не для всех типов виртуальных машин:"
   ]
  },
  {
   "cell_type": "code",
   "execution_count": 4,
   "metadata": {},
   "outputs": [],
   "source": [
    "vmType.drop(columns=['hdd'], inplace=True)"
   ]
  },
  {
   "cell_type": "markdown",
   "metadata": {},
   "source": [
    "Оставим только те виртуальные машины, которые размещаются на физической машине с номером 16:"
   ]
  },
  {
   "cell_type": "code",
   "execution_count": 5,
   "metadata": {},
   "outputs": [],
   "source": [
    "vmType = vmType[vmType['machineId'] == 16].copy()"
   ]
  },
  {
   "cell_type": "markdown",
   "metadata": {},
   "source": [
    "Столбцы id и machineId тоже не нужны:"
   ]
  },
  {
   "cell_type": "code",
   "execution_count": 6,
   "metadata": {},
   "outputs": [],
   "source": [
    "vmType.drop(columns=['id', 'machineId'], inplace=True)"
   ]
  },
  {
   "cell_type": "markdown",
   "metadata": {},
   "source": [
    "Для удобства отсортируем таблицу по vmTypeId:"
   ]
  },
  {
   "cell_type": "code",
   "execution_count": 7,
   "metadata": {},
   "outputs": [],
   "source": [
    "vmType.sort_values(by=['vmTypeId'], inplace=True, ignore_index=True)"
   ]
  },
  {
   "cell_type": "markdown",
   "metadata": {},
   "source": [
    "Сделаем индексацию по типу виртуальной машины:"
   ]
  },
  {
   "cell_type": "code",
   "execution_count": 8,
   "metadata": {},
   "outputs": [],
   "source": [
    "vmType.set_index('vmTypeId', inplace=True)"
   ]
  },
  {
   "cell_type": "markdown",
   "metadata": {},
   "source": [
    "Из vm уберём столбцы tenantId и priority, они не понадобятся:"
   ]
  },
  {
   "cell_type": "code",
   "execution_count": 9,
   "metadata": {},
   "outputs": [],
   "source": [
    "vm.drop(columns=['tenantId', 'priority'], inplace=True)"
   ]
  },
  {
   "cell_type": "markdown",
   "metadata": {},
   "source": [
    "Добавим к vm значения ресурсов и положим получившуюся таблицу в data:"
   ]
  },
  {
   "cell_type": "code",
   "execution_count": 10,
   "metadata": {},
   "outputs": [],
   "source": [
    "data = pd.merge(vm, vmType, how=\"left\", on=\"vmTypeId\").copy()"
   ]
  },
  {
   "cell_type": "markdown",
   "metadata": {},
   "source": [
    "Оставим в списке запросов только те виртуальные машины, которые могут быть размещены на физической машине 16:"
   ]
  },
  {
   "cell_type": "code",
   "execution_count": 11,
   "metadata": {},
   "outputs": [],
   "source": [
    "data = data[data['core'].notna()].copy()"
   ]
  },
  {
   "cell_type": "markdown",
   "metadata": {},
   "source": [
    "Колонка vmTypeId больше не нужна, удалим её:"
   ]
  },
  {
   "cell_type": "code",
   "execution_count": 12,
   "metadata": {},
   "outputs": [],
   "source": [
    "data.drop(columns=['vmTypeId'], inplace=True)"
   ]
  },
  {
   "cell_type": "markdown",
   "metadata": {},
   "source": [
    "Копируем data в data2:"
   ]
  },
  {
   "cell_type": "code",
   "execution_count": 13,
   "metadata": {},
   "outputs": [],
   "source": [
    "data2 = data.copy()"
   ]
  },
  {
   "cell_type": "markdown",
   "metadata": {},
   "source": [
    "В data удалим endtime, а starttime переименуем в time. В data2 удалим starttime, а endtime переименуем в time."
   ]
  },
  {
   "cell_type": "code",
   "execution_count": 14,
   "metadata": {},
   "outputs": [],
   "source": [
    "data.drop(columns=['endtime'], inplace=True)\n",
    "data.rename(columns={'starttime' : 'time'}, inplace=True)\n",
    "\n",
    "data2.drop(columns=['starttime'], inplace=True)\n",
    "data2.rename(columns={'endtime' : 'time'}, inplace=True)"
   ]
  },
  {
   "cell_type": "markdown",
   "metadata": {},
   "source": [
    "Добавим в каждую из двух таблиц колонку start_or_end. В data проставим значение start, а в data2 проставим значение end."
   ]
  },
  {
   "cell_type": "code",
   "execution_count": 15,
   "metadata": {},
   "outputs": [],
   "source": [
    "data['start_or_end'] = 'start'\n",
    "\n",
    "data2['start_or_end'] = 'end'"
   ]
  },
  {
   "cell_type": "markdown",
   "metadata": {},
   "source": [
    "Соединим две таблицы:"
   ]
  },
  {
   "cell_type": "code",
   "execution_count": 16,
   "metadata": {},
   "outputs": [],
   "source": [
    "data = pd.concat([data, data2], ignore_index=True).copy()"
   ]
  },
  {
   "cell_type": "markdown",
   "metadata": {},
   "source": [
    "Все строки с NaN (они есть только в столбце time) уберём, так как это просто значит, что виртуальная машина продолжает работать:"
   ]
  },
  {
   "cell_type": "code",
   "execution_count": 17,
   "metadata": {},
   "outputs": [],
   "source": [
    "data.dropna(inplace=True)"
   ]
  },
  {
   "cell_type": "markdown",
   "metadata": {},
   "source": [
    "Отсортируем записи по времени, чтобы построчным чтением можно было имитировать динамические запросы:"
   ]
  },
  {
   "cell_type": "code",
   "execution_count": 18,
   "metadata": {},
   "outputs": [],
   "source": [
    "data.sort_values(by=['time'], inplace=True, ignore_index=True)"
   ]
  },
  {
   "cell_type": "markdown",
   "metadata": {},
   "source": [
    "Переставим колонки для приведения к требуемому формату:"
   ]
  },
  {
   "cell_type": "code",
   "execution_count": 19,
   "metadata": {},
   "outputs": [],
   "source": [
    "data = data[['vmId', 'start_or_end', 'time', 'core', 'memory', 'ssd', 'nic']].copy()"
   ]
  },
  {
   "cell_type": "markdown",
   "metadata": {},
   "source": [
    "Сгенерируем итоговые CSV-файлы:"
   ]
  },
  {
   "cell_type": "code",
   "execution_count": 20,
   "metadata": {},
   "outputs": [],
   "source": [
    "ROWS = data.shape[0]"
   ]
  },
  {
   "cell_type": "code",
   "execution_count": 21,
   "metadata": {},
   "outputs": [],
   "source": [
    "import random"
   ]
  },
  {
   "cell_type": "code",
   "execution_count": 22,
   "metadata": {},
   "outputs": [],
   "source": [
    "random.seed(1011)\n",
    "for i in range(100):\n",
    "    start_slice = random.randint(0, ROWS - 10000)\n",
    "    end_slice = start_slice + 10000 - 1\n",
    "    data_slice = data.loc[start_slice:end_slice].copy()\n",
    "    data_slice.to_csv(\"slices/slice\" + str(i + 1) + \".csv\", header=False, index=False)"
   ]
  }
 ],
 "metadata": {
  "kernelspec": {
   "display_name": "Python 3",
   "language": "python",
   "name": "python3"
  },
  "language_info": {
   "codemirror_mode": {
    "name": "ipython",
    "version": 3
   },
   "file_extension": ".py",
   "mimetype": "text/x-python",
   "name": "python",
   "nbconvert_exporter": "python",
   "pygments_lexer": "ipython3",
   "version": "3.7.4"
  }
 },
 "nbformat": 4,
 "nbformat_minor": 2
}
